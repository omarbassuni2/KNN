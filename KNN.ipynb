{
 "cells": [
  {
   "cell_type": "code",
   "execution_count": 122,
   "metadata": {},
   "outputs": [],
   "source": [
    "from math import sqrt\n",
    "import pandas as pd\n",
    "import numpy as np"
   ]
  },
  {
   "cell_type": "code",
   "execution_count": 123,
   "metadata": {},
   "outputs": [],
   "source": [
    "def read_dataset(path, train_name, test_name):\n",
    "    train_set = pd.read_csv(path + train_name + '.csv')\n",
    "    test_set = pd.read_csv(path + test_name + '.csv')\n",
    "    return train_set, test_set"
   ]
  },
  {
   "cell_type": "code",
   "execution_count": 124,
   "metadata": {},
   "outputs": [],
   "source": [
    "def get_k(distance, y, k):\n",
    "    np.transpose(distance)\n",
    "    \n",
    "    df = pd.DataFrame({'col1': distance, 'col2' : y})\n",
    "    df = df.sort_values(by='col1')\n",
    "    return df.iloc[0:k,:] #change k to be columns according to ur vector"
   ]
  },
  {
   "cell_type": "code",
   "execution_count": 125,
   "metadata": {},
   "outputs": [],
   "source": [
    "def euclidean(trainrow, y_train ,testrow, k):\n",
    "    trainrow  = trainrow.values\n",
    "    testrow  = testrow.values\n",
    "    distance = []\n",
    "    for i in range(len(testrow)):\n",
    "        dist = (np.square(np.subtract(testrow[i], trainrow)))\n",
    "        dist = (np.sum(dist, axis =1))\n",
    "        dist = np.sqrt(dist)\n",
    "        k_vals = get_k(dist, y_train,k)\n",
    "        np.transpose(k_vals)\n",
    "        distance.append(k_vals)\n",
    "    return distance"
   ]
  },
  {
   "cell_type": "code",
   "execution_count": 126,
   "metadata": {},
   "outputs": [],
   "source": [
    "def predict(distance):\n",
    "    predictions = []\n",
    "    for df in distance:\n",
    "        predictions.append(df['col2'].value_counts().index.tolist()[0])\n",
    "    return predictions"
   ]
  },
  {
   "cell_type": "code",
   "execution_count": 127,
   "metadata": {},
   "outputs": [],
   "source": [
    "def knn(trainset, testset, k_values):\n",
    "    distance = euclidean(trainset.iloc[:, 0:-1], trainset.iloc[:, -1],testset.iloc[:, 0:-1], k_values)\n",
    "    class_name = predict(distance)\n",
    "    prediction_bool = (class_name == testset.iloc[:,-1])\n",
    "    return prediction_bool, class_name"
   ]
  },
  {
   "cell_type": "code",
   "execution_count": 151,
   "metadata": {},
   "outputs": [],
   "source": [
    "def formulating_output(pred_list, y_test, acc_df):\n",
    "    for i in range(3,11):\n",
    "        num_of_test =  acc_df['k=' + str(i)].value_counts().tolist()[0] + acc_df['k=' + str(i)].value_counts().tolist()[1]\n",
    "        accuracy = acc_df['k=' + str(i)].value_counts().tolist()[0] / num_of_test\n",
    "        print('K = ', i)\n",
    "        print('Accuracy = ', accuracy)\n",
    "        print('Correct: ', acc_df['k=' + str(i)].value_counts().tolist()[0], ' #OfInstances: ', str(num_of_test), '\\n\\n')\n",
    "        #for j in range(len(y_test)):\n",
    "            #print('Actual: ', y_test[j], ' Predicted: ', pred_list[i-3][j])        "
   ]
  },
  {
   "cell_type": "code",
   "execution_count": 133,
   "metadata": {},
   "outputs": [],
   "source": [
    "train, test = read_dataset('E:\\ComputerScience\\Year 4\\First Semster\\Machine Learning\\Assignments\\Assignment-1\\ML-Assi1-2\\Problem2DataSet', '\\TrainData', '\\TestData')\n",
    "accuracy_df = pd.DataFrame({})\n",
    "pred_list = []\n",
    "class_name_list = []\n",
    "for i in range(3,11):\n",
    "    predictions_bool, class_name= knn(train, test, i)\n",
    "    class_name_list.append(class_name)\n",
    "    pred_list.append(predictions_bool)\n",
    "    new_df = (pd.DataFrame({'k='+ str(i): predictions_bool}))\n",
    "    accuracy_df = pd.concat([accuracy_df, new_df], axis=1)"
   ]
  },
  {
   "cell_type": "code",
   "execution_count": 134,
   "metadata": {},
   "outputs": [
    {
     "data": {
      "text/html": [
       "<div>\n",
       "<style scoped>\n",
       "    .dataframe tbody tr th:only-of-type {\n",
       "        vertical-align: middle;\n",
       "    }\n",
       "\n",
       "    .dataframe tbody tr th {\n",
       "        vertical-align: top;\n",
       "    }\n",
       "\n",
       "    .dataframe thead th {\n",
       "        text-align: right;\n",
       "    }\n",
       "</style>\n",
       "<table border=\"1\" class=\"dataframe\">\n",
       "  <thead>\n",
       "    <tr style=\"text-align: right;\">\n",
       "      <th></th>\n",
       "      <th>k=3</th>\n",
       "      <th>k=4</th>\n",
       "      <th>k=5</th>\n",
       "      <th>k=6</th>\n",
       "      <th>k=7</th>\n",
       "      <th>k=8</th>\n",
       "      <th>k=9</th>\n",
       "      <th>k=10</th>\n",
       "    </tr>\n",
       "  </thead>\n",
       "  <tbody>\n",
       "    <tr>\n",
       "      <th>0</th>\n",
       "      <td>True</td>\n",
       "      <td>True</td>\n",
       "      <td>False</td>\n",
       "      <td>False</td>\n",
       "      <td>False</td>\n",
       "      <td>False</td>\n",
       "      <td>False</td>\n",
       "      <td>False</td>\n",
       "    </tr>\n",
       "    <tr>\n",
       "      <th>1</th>\n",
       "      <td>True</td>\n",
       "      <td>True</td>\n",
       "      <td>True</td>\n",
       "      <td>True</td>\n",
       "      <td>True</td>\n",
       "      <td>True</td>\n",
       "      <td>False</td>\n",
       "      <td>True</td>\n",
       "    </tr>\n",
       "    <tr>\n",
       "      <th>2</th>\n",
       "      <td>True</td>\n",
       "      <td>False</td>\n",
       "      <td>False</td>\n",
       "      <td>False</td>\n",
       "      <td>False</td>\n",
       "      <td>False</td>\n",
       "      <td>False</td>\n",
       "      <td>False</td>\n",
       "    </tr>\n",
       "    <tr>\n",
       "      <th>3</th>\n",
       "      <td>False</td>\n",
       "      <td>False</td>\n",
       "      <td>False</td>\n",
       "      <td>False</td>\n",
       "      <td>False</td>\n",
       "      <td>False</td>\n",
       "      <td>False</td>\n",
       "      <td>False</td>\n",
       "    </tr>\n",
       "    <tr>\n",
       "      <th>4</th>\n",
       "      <td>False</td>\n",
       "      <td>False</td>\n",
       "      <td>False</td>\n",
       "      <td>False</td>\n",
       "      <td>False</td>\n",
       "      <td>False</td>\n",
       "      <td>False</td>\n",
       "      <td>False</td>\n",
       "    </tr>\n",
       "  </tbody>\n",
       "</table>\n",
       "</div>"
      ],
      "text/plain": [
       "     k=3    k=4    k=5    k=6    k=7    k=8    k=9   k=10\n",
       "0   True   True  False  False  False  False  False  False\n",
       "1   True   True   True   True   True   True  False   True\n",
       "2   True  False  False  False  False  False  False  False\n",
       "3  False  False  False  False  False  False  False  False\n",
       "4  False  False  False  False  False  False  False  False"
      ]
     },
     "execution_count": 134,
     "metadata": {},
     "output_type": "execute_result"
    }
   ],
   "source": [
    "accuracy_df.head()"
   ]
  },
  {
   "cell_type": "code",
   "execution_count": 152,
   "metadata": {},
   "outputs": [
    {
     "name": "stdout",
     "output_type": "stream",
     "text": [
      "K =  3\n",
      "Accuracy =  0.5292792792792793\n",
      "Correct:  235  #OfInstances:  444 \n",
      "\n",
      "\n",
      "K =  4\n",
      "Accuracy =  0.5495495495495496\n",
      "Correct:  244  #OfInstances:  444 \n",
      "\n",
      "\n",
      "K =  5\n",
      "Accuracy =  0.5495495495495496\n",
      "Correct:  244  #OfInstances:  444 \n",
      "\n",
      "\n",
      "K =  6\n",
      "Accuracy =  0.5427927927927928\n",
      "Correct:  241  #OfInstances:  444 \n",
      "\n",
      "\n",
      "K =  7\n",
      "Accuracy =  0.5495495495495496\n",
      "Correct:  244  #OfInstances:  444 \n",
      "\n",
      "\n",
      "K =  8\n",
      "Accuracy =  0.5495495495495496\n",
      "Correct:  244  #OfInstances:  444 \n",
      "\n",
      "\n",
      "K =  9\n",
      "Accuracy =  0.5495495495495496\n",
      "Correct:  244  #OfInstances:  444 \n",
      "\n",
      "\n",
      "K =  10\n",
      "Accuracy =  0.5653153153153153\n",
      "Correct:  251  #OfInstances:  444 \n",
      "\n",
      "\n"
     ]
    }
   ],
   "source": [
    "formulating_output(class_name_list, test.iloc[:, -1], accuracy_df)"
   ]
  },
  {
   "cell_type": "code",
   "execution_count": null,
   "metadata": {},
   "outputs": [],
   "source": []
  }
 ],
 "metadata": {
  "kernelspec": {
   "display_name": "Python 3",
   "language": "python",
   "name": "python3"
  },
  "language_info": {
   "codemirror_mode": {
    "name": "ipython",
    "version": 3
   },
   "file_extension": ".py",
   "mimetype": "text/x-python",
   "name": "python",
   "nbconvert_exporter": "python",
   "pygments_lexer": "ipython3",
   "version": "3.6.8"
  }
 },
 "nbformat": 4,
 "nbformat_minor": 2
}
